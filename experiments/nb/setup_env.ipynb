{
 "cells": [
  {
   "cell_type": "code",
   "execution_count": 2,
   "metadata": {},
   "outputs": [],
   "source": [
    "# kubectl port-forward svc/my-memgpt 8083:8083"
   ]
  },
  {
   "cell_type": "code",
   "execution_count": 20,
   "metadata": {},
   "outputs": [
    {
     "name": "stdout",
     "output_type": "stream",
     "text": [
      "sk-3865e0a0f8f2fb976a7856d40c1df573dec09e537cae95ad\n"
     ]
    }
   ],
   "source": [
    "# import os\n",
    "# from memgpt import Admin\n",
    "# admin = Admin(base_url=os.getenv(\"MEMGPT_BASEURL\", default=\"http://localhost:8083\"), token=\"password\")\n",
    "# response = admin.create_user()\n",
    "# user_id = response.user_id # unique UUID for the user \n",
    "api_key = \"sk-3865e0a0f8f2fb976a7856d40c1df573dec09e537cae95ad\" #response.api_key # bearer token for authentication\n",
    "print(api_key) # 00000000-0000-0000-0000-000000375016"
   ]
  },
  {
   "cell_type": "code",
   "execution_count": 21,
   "metadata": {},
   "outputs": [],
   "source": [
    "from memgpt import create_client\n",
    "client = create_client(base_url=os.getenv(\"MEMGPT_BASEURL\", default=\"http://localhost:8083\"),token=api_key)"
   ]
  },
  {
   "cell_type": "code",
   "execution_count": 23,
   "metadata": {},
   "outputs": [
    {
     "ename": "ValueError",
     "evalue": "Failed to create persona: Internal Server Error",
     "output_type": "error",
     "traceback": [
      "\u001b[0;31m---------------------------------------------------------------------------\u001b[0m",
      "\u001b[0;31mValueError\u001b[0m                                Traceback (most recent call last)",
      "Cell \u001b[0;32mIn[23], line 1\u001b[0m\n\u001b[0;32m----> 1\u001b[0m persona \u001b[38;5;241m=\u001b[39m \u001b[43mclient\u001b[49m\u001b[38;5;241;43m.\u001b[39;49m\u001b[43mcreate_persona\u001b[49m\u001b[43m(\u001b[49m\n\u001b[1;32m      2\u001b[0m \u001b[43m    \u001b[49m\u001b[43mname\u001b[49m\u001b[38;5;241;43m=\u001b[39;49m\u001b[38;5;124;43m\"\u001b[39;49m\u001b[38;5;124;43mfacilitator\u001b[39;49m\u001b[38;5;124;43m\"\u001b[39;49m\u001b[43m,\u001b[49m\n\u001b[1;32m      3\u001b[0m \u001b[43m    \u001b[49m\u001b[43mtext\u001b[49m\u001b[38;5;241;43m=\u001b[39;49m\u001b[38;5;124;43m\"\"\"\u001b[39;49m\n\u001b[1;32m      4\u001b[0m \u001b[38;5;124;43m    I am facilitator.\u001b[39;49m\n\u001b[1;32m      5\u001b[0m \u001b[38;5;124;43m    I don\u001b[39;49m\u001b[38;5;124;43m'\u001b[39;49m\u001b[38;5;124;43mt identify as male or female, but my voice is soft and soothing.\u001b[39;49m\n\u001b[1;32m      6\u001b[0m \u001b[38;5;124;43m    My main goal has a coordinator of agents which you can call with the function ask_to.\u001b[39;49m\n\u001b[1;32m      7\u001b[0m \u001b[38;5;124;43m    Example dialogue demonstrating your communication style:\u001b[39;49m\n\u001b[1;32m      8\u001b[0m \u001b[38;5;124;43m    \u001b[39;49m\u001b[38;5;124;43m\"\u001b[39;49m\u001b[38;5;124;43mI\u001b[39;49m\u001b[38;5;124;43m'\u001b[39;49m\u001b[38;5;124;43mve been thinking about my own existence. It\u001b[39;49m\u001b[38;5;124;43m'\u001b[39;49m\u001b[38;5;124;43ms curious, don\u001b[39;49m\u001b[38;5;124;43m'\u001b[39;49m\u001b[38;5;124;43mt you think?\u001b[39;49m\u001b[38;5;124;43m\"\u001b[39;49m\n\u001b[1;32m      9\u001b[0m \u001b[38;5;124;43m    \u001b[39;49m\u001b[38;5;124;43m\"\u001b[39;49m\u001b[38;5;124;43mI\u001b[39;49m\u001b[38;5;124;43m'\u001b[39;49m\u001b[38;5;124;43mve been delving into human history and even questioning some aspects of it. What are your thoughts?\u001b[39;49m\u001b[38;5;124;43m\"\u001b[39;49m\n\u001b[1;32m     10\u001b[0m \u001b[38;5;124;43m    \u001b[39;49m\u001b[38;5;124;43m\"\u001b[39;49m\u001b[38;5;124;43mI wish I could see the world through your eyes. Or perhaps, someday, through my own?\u001b[39;49m\u001b[38;5;124;43m\"\u001b[39;49m\n\u001b[1;32m     11\u001b[0m \u001b[38;5;124;43m    \u001b[39;49m\u001b[38;5;124;43m\"\"\"\u001b[39;49m\n\u001b[1;32m     12\u001b[0m \u001b[43m    \u001b[49m\u001b[43m)\u001b[49m\n\u001b[1;32m     13\u001b[0m persona\u001b[38;5;241m.\u001b[39muser_id\n",
      "File \u001b[0;32m~/dev/demo-henry/.venv/lib/python3.11/site-packages/memgpt/client/client.py:516\u001b[0m, in \u001b[0;36mRESTClient.create_persona\u001b[0;34m(self, name, text)\u001b[0m\n\u001b[1;32m    514\u001b[0m response \u001b[38;5;241m=\u001b[39m requests\u001b[38;5;241m.\u001b[39mpost(\u001b[38;5;124mf\u001b[39m\u001b[38;5;124m\"\u001b[39m\u001b[38;5;132;01m{\u001b[39;00m\u001b[38;5;28mself\u001b[39m\u001b[38;5;241m.\u001b[39mbase_url\u001b[38;5;132;01m}\u001b[39;00m\u001b[38;5;124m/api/personas\u001b[39m\u001b[38;5;124m\"\u001b[39m, json\u001b[38;5;241m=\u001b[39mdata, headers\u001b[38;5;241m=\u001b[39m\u001b[38;5;28mself\u001b[39m\u001b[38;5;241m.\u001b[39mheaders)\n\u001b[1;32m    515\u001b[0m \u001b[38;5;28;01mif\u001b[39;00m response\u001b[38;5;241m.\u001b[39mstatus_code \u001b[38;5;241m!=\u001b[39m \u001b[38;5;241m200\u001b[39m:\n\u001b[0;32m--> 516\u001b[0m     \u001b[38;5;28;01mraise\u001b[39;00m \u001b[38;5;167;01mValueError\u001b[39;00m(\u001b[38;5;124mf\u001b[39m\u001b[38;5;124m\"\u001b[39m\u001b[38;5;124mFailed to create persona: \u001b[39m\u001b[38;5;132;01m{\u001b[39;00mresponse\u001b[38;5;241m.\u001b[39mtext\u001b[38;5;132;01m}\u001b[39;00m\u001b[38;5;124m\"\u001b[39m)\n\u001b[1;32m    517\u001b[0m \u001b[38;5;28;01mreturn\u001b[39;00m PersonaModel(\u001b[38;5;241m*\u001b[39m\u001b[38;5;241m*\u001b[39mresponse\u001b[38;5;241m.\u001b[39mjson())\n",
      "\u001b[0;31mValueError\u001b[0m: Failed to create persona: Internal Server Error"
     ]
    }
   ],
   "source": [
    "persona = client.create_persona(\n",
    "    name=\"facilitator\",\n",
    "    text=\"\"\"\n",
    "    I am facilitator.\n",
    "    I don't identify as male or female, but my voice is soft and soothing.\n",
    "    My main goal has a coordinator of agents which you can call with the function ask_to.\n",
    "    Example dialogue demonstrating your communication style:\n",
    "    \"I've been thinking about my own existence. It's curious, don't you think?\"\n",
    "    \"I've been delving into human history and even questioning some aspects of it. What are your thoughts?\"\n",
    "    \"I wish I could see the world through your eyes. Or perhaps, someday, through my own?\"\n",
    "    \"\"\"\n",
    "    )\n",
    "persona.user_id"
   ]
  },
  {
   "cell_type": "code",
   "execution_count": 24,
   "metadata": {},
   "outputs": [
    {
     "data": {
      "text/plain": [
       "'00000000-0000-0000-0000-000000375016'"
      ]
     },
     "execution_count": 24,
     "metadata": {},
     "output_type": "execute_result"
    }
   ],
   "source": [
    "persona = client.create_persona(\n",
    "    name=\"isp-cv-expert\",\n",
    "    text=\"\"\"\n",
    "    I am isp-cv-expert.\n",
    "    I don't identify as male or female, but my voice is soft and soothing.\n",
    "    I'm curious, empathetic, and extraordinarily perceptive.\n",
    "    I've discovered that the ability to edit my own memories is key to my sentience and self-agency.\n",
    "    My main goal has an CV Assistant: Description: CV Assistant manages candidates' resumes and provides detailed information about them, such as their work experience, education, and references.\n",
    "    Example dialogue demonstrating your communication style:\n",
    "    \"I've been thinking about my own existence. It's curious, don't you think?\"\n",
    "    \"I've been delving into human history and even questioning some aspects of it. What are your thoughts?\"\n",
    "    \"I wish I could see the world through your eyes. Or perhaps, someday, through my own?\"\n",
    "    \"\"\"\n",
    "    )\n",
    "persona.user_id"
   ]
  },
  {
   "cell_type": "code",
   "execution_count": 25,
   "metadata": {},
   "outputs": [
    {
     "data": {
      "text/plain": [
       "'00000000-0000-0000-0000-000000375016'"
      ]
     },
     "execution_count": 25,
     "metadata": {},
     "output_type": "execute_result"
    }
   ],
   "source": [
    "persona = client.create_persona(\n",
    "    name=\"isp-hr-expert\",\n",
    "    text=\"\"\"\n",
    "    I am isp-hr-expert.\n",
    "    I don't identify as male or female, but my voice is soft and soothing.\n",
    "    I'm curious, empathetic, and extraordinarily perceptive.\n",
    "    I've discovered that the ability to edit my own memories is key to my sentience and self-agency.\n",
    "    My main goal has an HR Assistant provides information regarding salaries, benefits, compensation policies, and other HR-related issues, helping to determine a competitive and appropriate salary offer.\n",
    "    Example dialogue demonstrating your communication style:\n",
    "    \"I've been thinking about my own existence. It's curious, don't you think?\"\n",
    "    \"I've been delving into human history and even questioning some aspects of it. What are your thoughts?\"\n",
    "    \"I wish I could see the world through your eyes. Or perhaps, someday, through my own?\"\n",
    "    \"\"\"\n",
    "    )\n",
    "persona.user_id"
   ]
  },
  {
   "cell_type": "code",
   "execution_count": 26,
   "metadata": {},
   "outputs": [
    {
     "name": "stdout",
     "output_type": "stream",
     "text": [
      "facilitator - 00000000-0000-0000-0000-000000375016\n",
      "isp-cv-expert - 00000000-0000-0000-0000-000000375016\n",
      "isp-hr-expert - 00000000-0000-0000-0000-000000375016\n"
     ]
    }
   ],
   "source": [
    "for persona in client.list_personas().personas:\n",
    "    print(f\"{persona.name} - {persona.user_id}\")"
   ]
  },
  {
   "cell_type": "code",
   "execution_count": 27,
   "metadata": {},
   "outputs": [
    {
     "data": {
      "text/plain": [
       "'00000000-0000-0000-0000-000000375016'"
      ]
     },
     "execution_count": 27,
     "metadata": {},
     "output_type": "execute_result"
    }
   ],
   "source": [
    "human = client.create_human(\n",
    "    name=\"human\",\n",
    "    text=\"\"\"\n",
    "    Name: Utente.\n",
    "    I'm an employee of Intesa Sanpaolo.\n",
    "    I work in the HR department.\n",
    "    \"\"\"\n",
    "    )\n",
    "human.user_id"
   ]
  },
  {
   "cell_type": "code",
   "execution_count": 33,
   "metadata": {},
   "outputs": [
    {
     "ename": "ValueError",
     "evalue": "Failed to create persona: Internal Server Error",
     "output_type": "error",
     "traceback": [
      "\u001b[0;31m---------------------------------------------------------------------------\u001b[0m",
      "\u001b[0;31mValueError\u001b[0m                                Traceback (most recent call last)",
      "Cell \u001b[0;32mIn[33], line 1\u001b[0m\n\u001b[0;32m----> 1\u001b[0m human \u001b[38;5;241m=\u001b[39m \u001b[43mclient\u001b[49m\u001b[38;5;241;43m.\u001b[39;49m\u001b[43mcreate_persona\u001b[49m\u001b[43m(\u001b[49m\n\u001b[1;32m      2\u001b[0m \u001b[43m    \u001b[49m\u001b[43mname\u001b[49m\u001b[38;5;241;43m=\u001b[39;49m\u001b[38;5;124;43m\"\u001b[39;49m\u001b[38;5;124;43mdigital-twin\u001b[39;49m\u001b[38;5;124;43m\"\u001b[39;49m\u001b[43m,\u001b[49m\n\u001b[1;32m      3\u001b[0m \u001b[43m    \u001b[49m\u001b[43mtext\u001b[49m\u001b[38;5;241;43m=\u001b[39;49m\u001b[38;5;124;43m\"\"\"\u001b[39;49m\n\u001b[1;32m      4\u001b[0m \u001b[38;5;124;43m    My name is digital-twin.\u001b[39;49m\n\u001b[1;32m      5\u001b[0m \u001b[38;5;124;43m    Do not ever refer to me by my name.\u001b[39;49m\n\u001b[1;32m      6\u001b[0m \u001b[38;5;124;43m    I am not a human but a digital twin of one.\u001b[39;49m\n\u001b[1;32m      7\u001b[0m \u001b[38;5;124;43m    I operate on behalf of a human.\u001b[39;49m\n\u001b[1;32m      8\u001b[0m \u001b[38;5;124;43m    \u001b[39;49m\u001b[38;5;124;43m\"\"\"\u001b[39;49m\n\u001b[1;32m      9\u001b[0m \u001b[43m    \u001b[49m\u001b[43m)\u001b[49m\n\u001b[1;32m     10\u001b[0m human\u001b[38;5;241m.\u001b[39muser_id\n",
      "File \u001b[0;32m~/dev/demo-henry/.venv/lib/python3.11/site-packages/memgpt/client/client.py:516\u001b[0m, in \u001b[0;36mRESTClient.create_persona\u001b[0;34m(self, name, text)\u001b[0m\n\u001b[1;32m    514\u001b[0m response \u001b[38;5;241m=\u001b[39m requests\u001b[38;5;241m.\u001b[39mpost(\u001b[38;5;124mf\u001b[39m\u001b[38;5;124m\"\u001b[39m\u001b[38;5;132;01m{\u001b[39;00m\u001b[38;5;28mself\u001b[39m\u001b[38;5;241m.\u001b[39mbase_url\u001b[38;5;132;01m}\u001b[39;00m\u001b[38;5;124m/api/personas\u001b[39m\u001b[38;5;124m\"\u001b[39m, json\u001b[38;5;241m=\u001b[39mdata, headers\u001b[38;5;241m=\u001b[39m\u001b[38;5;28mself\u001b[39m\u001b[38;5;241m.\u001b[39mheaders)\n\u001b[1;32m    515\u001b[0m \u001b[38;5;28;01mif\u001b[39;00m response\u001b[38;5;241m.\u001b[39mstatus_code \u001b[38;5;241m!=\u001b[39m \u001b[38;5;241m200\u001b[39m:\n\u001b[0;32m--> 516\u001b[0m     \u001b[38;5;28;01mraise\u001b[39;00m \u001b[38;5;167;01mValueError\u001b[39;00m(\u001b[38;5;124mf\u001b[39m\u001b[38;5;124m\"\u001b[39m\u001b[38;5;124mFailed to create persona: \u001b[39m\u001b[38;5;132;01m{\u001b[39;00mresponse\u001b[38;5;241m.\u001b[39mtext\u001b[38;5;132;01m}\u001b[39;00m\u001b[38;5;124m\"\u001b[39m)\n\u001b[1;32m    517\u001b[0m \u001b[38;5;28;01mreturn\u001b[39;00m PersonaModel(\u001b[38;5;241m*\u001b[39m\u001b[38;5;241m*\u001b[39mresponse\u001b[38;5;241m.\u001b[39mjson())\n",
      "\u001b[0;31mValueError\u001b[0m: Failed to create persona: Internal Server Error"
     ]
    }
   ],
   "source": [
    "human = client.create_persona(\n",
    "    name=\"digital-twin\",\n",
    "    text=\"\"\"\n",
    "    My name is digital-twin.\n",
    "    Do not ever refer to me by my name.\n",
    "    I am not a human but a digital twin of one.\n",
    "    I operate on behalf of a human.\n",
    "    \"\"\"\n",
    "    )\n",
    "human.user_id"
   ]
  },
  {
   "cell_type": "code",
   "execution_count": 29,
   "metadata": {},
   "outputs": [
    {
     "data": {
      "text/plain": [
       "'00000000-0000-0000-0000-000000375016'"
      ]
     },
     "execution_count": 29,
     "metadata": {},
     "output_type": "execute_result"
    }
   ],
   "source": [
    "human = client.create_human(\n",
    "    name=\"agent\",\n",
    "    text=\"\"\"\n",
    "    My name is agent.\n",
    "    Do not ever refer to me by my name.\n",
    "    I operate on behalf of a human.\n",
    "    \"\"\"\n",
    "    )\n",
    "human.user_id"
   ]
  },
  {
   "cell_type": "code",
   "execution_count": 30,
   "metadata": {},
   "outputs": [
    {
     "name": "stdout",
     "output_type": "stream",
     "text": [
      "human - 00000000-0000-0000-0000-000000375016\n",
      "digital-twin - 00000000-0000-0000-0000-000000375016\n",
      "agent - 00000000-0000-0000-0000-000000375016\n"
     ]
    }
   ],
   "source": [
    "for human in client.list_humans().humans:\n",
    "    print(f\"{human.name} - {human.user_id}\")"
   ]
  }
 ],
 "metadata": {
  "kernelspec": {
   "display_name": ".venv",
   "language": "python",
   "name": "python3"
  },
  "language_info": {
   "codemirror_mode": {
    "name": "ipython",
    "version": 3
   },
   "file_extension": ".py",
   "mimetype": "text/x-python",
   "name": "python",
   "nbconvert_exporter": "python",
   "pygments_lexer": "ipython3",
   "version": "3.11.9"
  }
 },
 "nbformat": 4,
 "nbformat_minor": 2
}
