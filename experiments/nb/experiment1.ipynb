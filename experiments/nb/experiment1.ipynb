{
 "cells": [
  {
   "cell_type": "code",
   "execution_count": 3,
   "metadata": {},
   "outputs": [
    {
     "name": "stdout",
     "output_type": "stream",
     "text": [
      "\"a6d5ded1-3f02-4499-906b-6424e341ee8c\""
     ]
    }
   ],
   "source": [
    "!curl -X 'PUT' \\\n",
    "  'http://localhost:8690/api/v1/create_source?name=regulation' \\\n",
    "  -H 'accept: application/json'"
   ]
  },
  {
   "cell_type": "code",
   "execution_count": 5,
   "metadata": {},
   "outputs": [
    {
     "name": "stdout",
     "output_type": "stream",
     "text": [
      "{\"message\":\"Failed to attach source to agent: Internal Server Error\"}"
     ]
    }
   ],
   "source": [
    "!curl -X 'PUT' \\\n",
    "  'http://localhost:8690/api/v1/add_kb?source_id=a6d5ded1-3f02-4499-906b-6424e341ee8c' \\\n",
    "  -H 'accept: application/json' \\\n",
    "  -H 'Content-Type: multipart/form-data' \\\n",
    "  -F 'file=@isp_regulation.md'"
   ]
  },
  {
   "cell_type": "code",
   "execution_count": 8,
   "metadata": {},
   "outputs": [
    {
     "name": "stdout",
     "output_type": "stream",
     "text": [
      "\"78ed2ec6-8632-4341-9b2e-887fd27e01c2\""
     ]
    }
   ],
   "source": [
    "!curl -X 'PUT' \\\n",
    "  'http://localhost:8690/api/v1/create_source?name=positions' \\\n",
    "  -H 'accept: application/json'"
   ]
  },
  {
   "cell_type": "code",
   "execution_count": 9,
   "metadata": {},
   "outputs": [
    {
     "name": "stdout",
     "output_type": "stream",
     "text": [
      "{\"message\":\"File uploaded and processed successfully\"}"
     ]
    }
   ],
   "source": [
    "!curl -X 'PUT' \\\n",
    "  'http://localhost:8690/api/v1/add_kb?source_id=b6ca5129-4676-49b4-a5f7-87879d095d14' \\\n",
    "  -H 'accept: application/json' \\\n",
    "  -H 'Content-Type: multipart/form-data' \\\n",
    "  -F 'file=@isp_position.md'"
   ]
  },
  {
   "cell_type": "code",
   "execution_count": 10,
   "metadata": {},
   "outputs": [
    {
     "name": "stdout",
     "output_type": "stream",
     "text": [
      "\"74e2714b-96bc-46d8-bcf2-d36532853efa\""
     ]
    }
   ],
   "source": [
    "!curl -X 'PUT' \\\n",
    "  'http://localhost:8790/api/v1/create_source?name=curricula' \\\n",
    "  -H 'accept: application/json'"
   ]
  },
  {
   "cell_type": "code",
   "execution_count": 11,
   "metadata": {},
   "outputs": [
    {
     "name": "stdout",
     "output_type": "stream",
     "text": [
      "{\"message\":\"File uploaded and processed successfully\"}"
     ]
    }
   ],
   "source": [
    "!curl -X 'PUT' \\\n",
    "  'http://localhost:8790/api/v1/add_kb?source_id=040c4641-84d3-4893-b6aa-404a169d445e' \\\n",
    "  -H 'accept: application/json' \\\n",
    "  -H 'Content-Type: multipart/form-data' \\\n",
    "  -F 'file=@bob_cv.md'"
   ]
  },
  {
   "cell_type": "code",
   "execution_count": 42,
   "metadata": {},
   "outputs": [
    {
     "name": "stdout",
     "output_type": "stream",
     "text": [
      "\"Based on Bob's resume, he is a seasoned Software Engineer with valuable skills which include Java, Python, JavaScript, React, Spring Boot, Django, and he also accrues experience in full stack development, software architecture, and project management. This strong background makes him a potentially great fit for many technical roles. As regards compensation, considering Bob's skills and experience, his starting salary might typically range from €70,000 to €150,000 annually, contingent upon the delineated responsibilities and specifics of the role.\""
     ]
    }
   ],
   "source": [
    "# Is the candidate Bob qualified for the position and what would be an appropriate starting salary for them?\n",
    "!curl -X 'GET' \\\n",
    "  'http://localhost:8888/api/v1/ask?question=Is%20the%20candidate%20Bob%20qualified%20for%20the%20position%20and%20what%20would%20be%20an%20appropriate%20starting%20salary%20for%20them%3F' \\\n",
    "  -H 'accept: application/json'"
   ]
  },
  {
   "cell_type": "markdown",
   "metadata": {},
   "source": [
    "Internal Monologue: Chad's message clarifies my role as a coordinator and provides an initial user request: \"Is the candidate Bob qualified for the position and what would be an appropriate starting salary for them?\".\n",
    "Starting with CV Assistant handling Bob's qualification, and then asking HR Assistant about an appropriate salary. Let's get Bob's CV.\n",
    "\n",
    "Function Call (ask_to): {'agent_name': 'isp-cv-expert', 'question': 'Who is the candidate Bob and do we have their resume?', 'address': 'isp-cv-expert:80', 'request_heartbeat': True}\n",
    "\n",
    "Function Return: \"Bob Smith is a highly skilled Software Engineer with over 10 years of experience. Relevant skills include proficiency in Java, Python, JavaScript, React, Spring Boot, and Django. Bob has a background in full stack development, software architecture, and project management. Contact Information: Email - bob.smith@example.com, Phone - +1 234 567 8901, LinkedIn - linkedin.com/in/bobsmith, GitHub - github.com/bobsmith.\"\n",
    "\n",
    "Internal Monologue: Successfully obtained Bob's CV, computing assessment. Bob is experienced and highly skilled. His skills and background might make him qualified, but position specifics missing. Also, we need to address the compensation question via the HR assistant.\n",
    "\n",
    "Function Call (ask_to): {'agent_name': 'isp-hr-expert', 'question': 'What is an appropriate starting salary for a highly skilled Software Engineer with over 10 years of experience?', 'address': 'isp-hr-expert:80', 'request_heartbeat': True}\n",
    "\n",
    "Function Return: \"For a highly skilled Software Engineer with over 10 years of experience, an appropriate starting salary would typically range from €70,000 to €150,000 per year, depending on the specific role and responsibilities.\"\n",
    "\n",
    "Internal Monologue: Encouraging. We've got the prospective salary range. Now synthesizing all information into a comprehensive response. Classy and articulate phrasing deemed mandatory, given persona characteristics. On it.\n",
    "\n",
    "Function Call (send_message): {'message': \"Based on Bob's resume, he is a seasoned Software Engineer with valuable skills which include Java, Python, JavaScript, React, Spring Boot, Django, and he also accrues experience in full stack development, software architecture, and project management. This strong background makes him a potentially great fit for many technical roles. As regards compensation, considering Bob's skills and experience, his starting salary might typically range from €70,000 to €150,000 annually, contingent upon the delineated responsibilities and specifics of the role.\"}\n",
    "\n",
    "Function Return: None\n",
    "\n",
    "INFO:     127.0.0.1:42568 - \"GET /api/v1/ask?question=Is%20the%20candidate%20Bob%20qualified%20for%20the%20position%20and%20what%20would%20be%20an%20appropriate%20starting%20salary%20for%20them%3F HTTP/1.1\" 200 OK"
   ]
  }
 ],
 "metadata": {
  "kernelspec": {
   "display_name": ".venv",
   "language": "python",
   "name": "python3"
  },
  "language_info": {
   "codemirror_mode": {
    "name": "ipython",
    "version": 3
   },
   "file_extension": ".py",
   "mimetype": "text/x-python",
   "name": "python",
   "nbconvert_exporter": "python",
   "pygments_lexer": "ipython3",
   "version": "3.11.9"
  }
 },
 "nbformat": 4,
 "nbformat_minor": 2
}
